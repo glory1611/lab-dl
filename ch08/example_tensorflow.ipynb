{
  "nbformat": 4,
  "nbformat_minor": 0,
  "metadata": {
    "colab": {
      "name": "example_tensorflow.ipynb",
      "provenance": [],
      "collapsed_sections": []
    },
    "kernelspec": {
      "name": "python3",
      "display_name": "Python 3"
    }
  },
  "cells": [
    {
      "cell_type": "markdown",
      "metadata": {
        "id": "-X1HDsYDDX6K",
        "colab_type": "text"
      },
      "source": [
        "TensorFlow 버전 2.x 선택"
      ]
    },
    {
      "cell_type": "code",
      "metadata": {
        "id": "voAvK8aCCbsd",
        "colab_type": "code",
        "colab": {}
      },
      "source": [
        "%tensorflow_version 2.x"
      ],
      "execution_count": 0,
      "outputs": []
    },
    {
      "cell_type": "code",
      "metadata": {
        "id": "XZ6ad33MA0JZ",
        "colab_type": "code",
        "colab": {}
      },
      "source": [
        "import tensorflow as tf"
      ],
      "execution_count": 0,
      "outputs": []
    },
    {
      "cell_type": "code",
      "metadata": {
        "id": "ZjtTjO0XBfnv",
        "colab_type": "code",
        "outputId": "68ed8b2c-848d-4c7a-8ddb-4e63b3d5d343",
        "colab": {
          "base_uri": "https://localhost:8080/",
          "height": 34
        }
      },
      "source": [
        "print(tf.__version__)"
      ],
      "execution_count": 0,
      "outputs": [
        {
          "output_type": "stream",
          "text": [
            "2.1.0\n"
          ],
          "name": "stdout"
        }
      ]
    },
    {
      "cell_type": "code",
      "metadata": {
        "id": "Gk7cqFOKDLFK",
        "colab_type": "code",
        "outputId": "0bce29d2-121f-4cb4-e0ff-5ce1f335d6c6",
        "colab": {
          "base_uri": "https://localhost:8080/",
          "height": 34
        }
      },
      "source": [
        "import keras\n",
        "print(keras.__version__)"
      ],
      "execution_count": 0,
      "outputs": [
        {
          "output_type": "stream",
          "text": [
            "2.2.5\n"
          ],
          "name": "stdout"
        }
      ]
    },
    {
      "cell_type": "markdown",
      "metadata": {
        "id": "Q9Zx1OvGGGXs",
        "colab_type": "text"
      },
      "source": [
        "\n",
        "\n",
        "\n",
        "1.   MNIST 데이터 로딩\n",
        "\n",
        "\n",
        "\n"
      ]
    },
    {
      "cell_type": "code",
      "metadata": {
        "id": "5RhcEblhEOAq",
        "colab_type": "code",
        "colab": {}
      },
      "source": [
        "from tensorflow.keras.datasets import mnist\n",
        "(X_train, Y_train), (X_test, Y_test) = mnist.load_data()"
      ],
      "execution_count": 0,
      "outputs": []
    },
    {
      "cell_type": "code",
      "metadata": {
        "id": "hHTwRCQ_G4ya",
        "colab_type": "code",
        "outputId": "83eed2cb-a878-4a30-ee87-8da735710bda",
        "colab": {
          "base_uri": "https://localhost:8080/",
          "height": 51
        }
      },
      "source": [
        "# 데이터 구조 확인\n",
        "print(f'X_train: {X_train.shape}, Y_train: {Y_train.shape}')\n",
        "print(f'X_test: {X_test.shape}, Y_test: {Y_test.shape}')"
      ],
      "execution_count": 0,
      "outputs": [
        {
          "output_type": "stream",
          "text": [
            "X_train: (60000, 28, 28), Y_train: (60000,)\n",
            "X_test: (10000, 28, 28), Y_test: (10000,)\n"
          ],
          "name": "stdout"
        }
      ]
    },
    {
      "cell_type": "code",
      "metadata": {
        "id": "AUQzw3X-H6VY",
        "colab_type": "code",
        "outputId": "8e31e296-0775-43a6-882f-f94d8464280a",
        "colab": {
          "base_uri": "https://localhost:8080/",
          "height": 265
        }
      },
      "source": [
        "import matplotlib.pyplot as plt\n",
        "\n",
        "plt.imshow(X_train[0], cmap='gray')\n",
        "plt.show()"
      ],
      "execution_count": 0,
      "outputs": [
        {
          "output_type": "display_data",
          "data": {
            "image/png": "[encoded data removed]",
            "text/plain": [
              "<Figure size 432x288 with 1 Axes>"
            ]
          },
          "metadata": {
            "tags": []
          }
        }
      ]
    },
    {
      "cell_type": "markdown",
      "metadata": {
        "id": "Rgrbs-2fJJLM",
        "colab_type": "text"
      },
      "source": [
        "\n",
        "\n",
        "2.   데이터 전처리\n",
        "\n"
      ]
    },
    {
      "cell_type": "code",
      "metadata": {
        "id": "TjtNJHrRIg_w",
        "colab_type": "code",
        "outputId": "ff9a1807-48e6-4e50-8191-837ded0143b1",
        "colab": {
          "base_uri": "https://localhost:8080/",
          "height": 34
        }
      },
      "source": [
        "# Neural Network에 전송할 때 이미지는 1차원이어야 함.\n",
        "# 3차원 학습 데이터(samples, height, width)를 \n",
        "# 2차원 데이터(sampels, height * width) 모양으로 변환함.\n",
        "n, h, w = X_train.shape\n",
        "X_train = X_train.reshape(n, h * w)\n",
        "print('X_train:', X_train.shape)"
      ],
      "execution_count": 0,
      "outputs": [
        {
          "output_type": "stream",
          "text": [
            "X_train: (60000, 784)\n"
          ],
          "name": "stdout"
        }
      ]
    },
    {
      "cell_type": "code",
      "metadata": {
        "id": "s5zOoJHzJ4TW",
        "colab_type": "code",
        "outputId": "ac9456f7-9b7d-4b20-dde5-8108490f00b6",
        "colab": {
          "base_uri": "https://localhost:8080/",
          "height": 34
        }
      },
      "source": [
        "# X_test 데이터를 (samples, height * width) 모양으로 변환.\n",
        "nt, ht, wt = X_test.shape\n",
        "X_test = X_test.reshape(nt, ht * wt)\n",
        "print('X_test:', X_test.shape)"
      ],
      "execution_count": 0,
      "outputs": [
        {
          "output_type": "stream",
          "text": [
            "X_test: (10000, 784)\n"
          ],
          "name": "stdout"
        }
      ]
    },
    {
      "cell_type": "code",
      "metadata": {
        "id": "NcjYbnycLQqb",
        "colab_type": "code",
        "outputId": "6efa0cea-1f22-41db-a3d2-c6d176043243",
        "colab": {
          "base_uri": "https://localhost:8080/",
          "height": 779
        }
      },
      "source": [
        "print(X_train[0])  # 이미지 데이터의 값 확인"
      ],
      "execution_count": 0,
      "outputs": [
        {
          "output_type": "stream",
          "text": [
            "[  0   0   0   0   0   0   0   0   0   0   0   0   0   0   0   0   0   0\n",
            "   0   0   0   0   0   0   0   0   0   0   0   0   0   0   0   0   0   0\n",
            "   0   0   0   0   0   0   0   0   0   0   0   0   0   0   0   0   0   0\n",
            "   0   0   0   0   0   0   0   0   0   0   0   0   0   0   0   0   0   0\n",
            "   0   0   0   0   0   0   0   0   0   0   0   0   0   0   0   0   0   0\n",
            "   0   0   0   0   0   0   0   0   0   0   0   0   0   0   0   0   0   0\n",
            "   0   0   0   0   0   0   0   0   0   0   0   0   0   0   0   0   0   0\n",
            "   0   0   0   0   0   0   0   0   0   0   0   0   0   0   0   0   0   0\n",
            "   0   0   0   0   0   0   0   0   3  18  18  18 126 136 175  26 166 255\n",
            " 247 127   0   0   0   0   0   0   0   0   0   0   0   0  30  36  94 154\n",
            " 170 253 253 253 253 253 225 172 253 242 195  64   0   0   0   0   0   0\n",
            "   0   0   0   0   0  49 238 253 253 253 253 253 253 253 253 251  93  82\n",
            "  82  56  39   0   0   0   0   0   0   0   0   0   0   0   0  18 219 253\n",
            " 253 253 253 253 198 182 247 241   0   0   0   0   0   0   0   0   0   0\n",
            "   0   0   0   0   0   0   0   0  80 156 107 253 253 205  11   0  43 154\n",
            "   0   0   0   0   0   0   0   0   0   0   0   0   0   0   0   0   0   0\n",
            "   0  14   1 154 253  90   0   0   0   0   0   0   0   0   0   0   0   0\n",
            "   0   0   0   0   0   0   0   0   0   0   0   0   0 139 253 190   2   0\n",
            "   0   0   0   0   0   0   0   0   0   0   0   0   0   0   0   0   0   0\n",
            "   0   0   0   0   0  11 190 253  70   0   0   0   0   0   0   0   0   0\n",
            "   0   0   0   0   0   0   0   0   0   0   0   0   0   0   0   0  35 241\n",
            " 225 160 108   1   0   0   0   0   0   0   0   0   0   0   0   0   0   0\n",
            "   0   0   0   0   0   0   0   0   0  81 240 253 253 119  25   0   0   0\n",
            "   0   0   0   0   0   0   0   0   0   0   0   0   0   0   0   0   0   0\n",
            "   0   0  45 186 253 253 150  27   0   0   0   0   0   0   0   0   0   0\n",
            "   0   0   0   0   0   0   0   0   0   0   0   0   0  16  93 252 253 187\n",
            "   0   0   0   0   0   0   0   0   0   0   0   0   0   0   0   0   0   0\n",
            "   0   0   0   0   0   0   0 249 253 249  64   0   0   0   0   0   0   0\n",
            "   0   0   0   0   0   0   0   0   0   0   0   0   0   0  46 130 183 253\n",
            " 253 207   2   0   0   0   0   0   0   0   0   0   0   0   0   0   0   0\n",
            "   0   0   0   0  39 148 229 253 253 253 250 182   0   0   0   0   0   0\n",
            "   0   0   0   0   0   0   0   0   0   0   0   0  24 114 221 253 253 253\n",
            " 253 201  78   0   0   0   0   0   0   0   0   0   0   0   0   0   0   0\n",
            "   0   0  23  66 213 253 253 253 253 198  81   2   0   0   0   0   0   0\n",
            "   0   0   0   0   0   0   0   0   0   0  18 171 219 253 253 253 253 195\n",
            "  80   9   0   0   0   0   0   0   0   0   0   0   0   0   0   0   0   0\n",
            "  55 172 226 253 253 253 253 244 133  11   0   0   0   0   0   0   0   0\n",
            "   0   0   0   0   0   0   0   0   0   0 136 253 253 253 212 135 132  16\n",
            "   0   0   0   0   0   0   0   0   0   0   0   0   0   0   0   0   0   0\n",
            "   0   0   0   0   0   0   0   0   0   0   0   0   0   0   0   0   0   0\n",
            "   0   0   0   0   0   0   0   0   0   0   0   0   0   0   0   0   0   0\n",
            "   0   0   0   0   0   0   0   0   0   0   0   0   0   0   0   0   0   0\n",
            "   0   0   0   0   0   0   0   0   0   0   0   0   0   0   0   0   0   0\n",
            "   0   0   0   0   0   0   0   0   0   0]\n"
          ],
          "name": "stdout"
        }
      ]
    },
    {
      "cell_type": "markdown",
      "metadata": {
        "id": "1qnU9v4hOoOh",
        "colab_type": "text"
      },
      "source": [
        "이미지 데이터는 0 ~ 255 사이의 값들로 저장되어 있음. 신경망에 보낼 때는 정규화된 값(0. ~ 1.)으로 보내면 더 좋은 성능이 나올 수도 있음."
      ]
    },
    {
      "cell_type": "code",
      "metadata": {
        "id": "dsPC7p1iOPu7",
        "colab_type": "code",
        "colab": {}
      },
      "source": [
        "X_train = X_train.astype('float16') / 255\n",
        "X_test = X_test.astype('float16') / 255"
      ],
      "execution_count": 0,
      "outputs": []
    },
    {
      "cell_type": "code",
      "metadata": {
        "id": "NPeRRpd7PfUS",
        "colab_type": "code",
        "outputId": "1182abfd-e7af-48a5-e3fe-e41175166abe",
        "colab": {
          "base_uri": "https://localhost:8080/",
          "height": 34
        }
      },
      "source": [
        "print(Y_train[0])  # 레이블(클래스)은 one-hot encoding이 아님."
      ],
      "execution_count": 0,
      "outputs": [
        {
          "output_type": "stream",
          "text": [
            "5\n"
          ],
          "name": "stdout"
        }
      ]
    },
    {
      "cell_type": "code",
      "metadata": {
        "id": "bLSfPK85P-fa",
        "colab_type": "code",
        "outputId": "73aa5a9b-3021-4f15-d968-7712f4aca1ec",
        "colab": {
          "base_uri": "https://localhost:8080/",
          "height": 34
        }
      },
      "source": [
        "# 학습/테스트 레이블을 one-hot encoding 적용\n",
        "from tensorflow.keras.utils import to_categorical\n",
        "\n",
        "Y_train = to_categorical(Y_train, 10, dtype='float16')\n",
        "Y_test = to_categorical(Y_test, 10, dtype='float16')\n",
        "print(Y_train[0], Y_test[0])"
      ],
      "execution_count": 0,
      "outputs": [
        {
          "output_type": "stream",
          "text": [
            "[0. 0. 0. 0. 0. 1. 0. 0. 0. 0.] [0. 0. 0. 0. 0. 0. 0. 1. 0. 0.]\n"
          ],
          "name": "stdout"
        }
      ]
    },
    {
      "cell_type": "markdown",
      "metadata": {
        "id": "yHFv2yUhRJtJ",
        "colab_type": "text"
      },
      "source": [
        "\n",
        "\n",
        "3.   1층 Neural Network 생성\n",
        "\n",
        "\n"
      ]
    },
    {
      "cell_type": "code",
      "metadata": {
        "id": "1IBqWxRmQ2aZ",
        "colab_type": "code",
        "colab": {}
      },
      "source": [
        "from tensorflow.keras import Sequential\n",
        "from tensorflow.keras.layers import Dense\n",
        "\n",
        "# Sequential 클래스 인스턴스 생성 - 생성자(constructor) 호출\n",
        "model = Sequential()  # 신경망 모델\n",
        "\n",
        "# Dense(fully-connected layer, 완전연결 층)을 생성하고,\n",
        "# 신경망에 은닉층으로 추가\n",
        "model.add(Dense(512, input_dim=h*w, activation='relu'))\n",
        "# 512: 은닉층의 뉴런 개수\n",
        "\n",
        "# 출력층(output layer)을 신경망에 추가 \n",
        "model.add(Dense(10, activation='softmax'))"
      ],
      "execution_count": 0,
      "outputs": []
    },
    {
      "cell_type": "code",
      "metadata": {
        "id": "l-WyXkM_U7L3",
        "colab_type": "code",
        "colab": {}
      },
      "source": [
        "# 신경망 모델 컴파일\n",
        "model.compile(loss='categorical_crossentropy',\n",
        "              optimizer='adam',\n",
        "              metrics=['accuracy'])"
      ],
      "execution_count": 0,
      "outputs": []
    },
    {
      "cell_type": "code",
      "metadata": {
        "id": "86uQN0Q2X6H0",
        "colab_type": "code",
        "outputId": "ec634bc5-7878-4b27-d9b9-d523bc96d8f3",
        "colab": {
          "base_uri": "https://localhost:8080/",
          "height": 678
        }
      },
      "source": [
        "# 모델 최적화 - epoch를 반복할 때, 10회 epoch 동안 성능 향상이 없으면,\n",
        "# 자동으로 학습 중단(epoch 중단)\n",
        "from tensorflow.keras.callbacks import EarlyStopping\n",
        "\n",
        "early_stop = EarlyStopping(monitor='val_loss',\n",
        "                           patience=10)\n",
        "\n",
        "# 신경망 모델 학습 실행\n",
        "history = model.fit(X_train, Y_train,\n",
        "                    batch_size=200,\n",
        "                    epochs=50,\n",
        "                    verbose=1,\n",
        "                    callbacks=[early_stop],\n",
        "                    validation_data=(X_test, Y_test))"
      ],
      "execution_count": 0,
      "outputs": [
        {
          "output_type": "stream",
          "text": [
            "Train on 60000 samples, validate on 10000 samples\n",
            "Epoch 1/50\n",
            "60000/60000 [==============================] - 5s 76us/sample - loss: 0.3019 - accuracy: 0.9148 - val_loss: 0.1513 - val_accuracy: 0.9569\n",
            "Epoch 2/50\n",
            "60000/60000 [==============================] - 4s 63us/sample - loss: 0.1251 - accuracy: 0.9645 - val_loss: 0.1055 - val_accuracy: 0.9685\n",
            "Epoch 3/50\n",
            "60000/60000 [==============================] - 4s 64us/sample - loss: 0.0830 - accuracy: 0.9757 - val_loss: 0.0796 - val_accuracy: 0.9752\n",
            "Epoch 4/50\n",
            "60000/60000 [==============================] - 4s 59us/sample - loss: 0.0598 - accuracy: 0.9826 - val_loss: 0.0743 - val_accuracy: 0.9767\n",
            "Epoch 5/50\n",
            "60000/60000 [==============================] - 4s 60us/sample - loss: 0.0446 - accuracy: 0.9875 - val_loss: 0.0691 - val_accuracy: 0.9776\n",
            "Epoch 6/50\n",
            "60000/60000 [==============================] - 4s 61us/sample - loss: 0.0347 - accuracy: 0.9906 - val_loss: 0.0642 - val_accuracy: 0.9802\n",
            "Epoch 7/50\n",
            "60000/60000 [==============================] - 4s 59us/sample - loss: 0.0262 - accuracy: 0.9932 - val_loss: 0.0643 - val_accuracy: 0.9803\n",
            "Epoch 8/50\n",
            "60000/60000 [==============================] - 4s 59us/sample - loss: 0.0198 - accuracy: 0.9954 - val_loss: 0.0575 - val_accuracy: 0.9826\n",
            "Epoch 9/50\n",
            "60000/60000 [==============================] - 4s 60us/sample - loss: 0.0154 - accuracy: 0.9964 - val_loss: 0.0673 - val_accuracy: 0.9796\n",
            "Epoch 10/50\n",
            "60000/60000 [==============================] - 4s 60us/sample - loss: 0.0121 - accuracy: 0.9975 - val_loss: 0.0598 - val_accuracy: 0.9813\n",
            "Epoch 11/50\n",
            "60000/60000 [==============================] - 4s 60us/sample - loss: 0.0100 - accuracy: 0.9980 - val_loss: 0.0608 - val_accuracy: 0.9813\n",
            "Epoch 12/50\n",
            "60000/60000 [==============================] - 4s 60us/sample - loss: 0.0077 - accuracy: 0.9987 - val_loss: 0.0605 - val_accuracy: 0.9824\n",
            "Epoch 13/50\n",
            "60000/60000 [==============================] - 4s 59us/sample - loss: 0.0064 - accuracy: 0.9990 - val_loss: 0.0613 - val_accuracy: 0.9816\n",
            "Epoch 14/50\n",
            "60000/60000 [==============================] - 4s 59us/sample - loss: 0.0045 - accuracy: 0.9995 - val_loss: 0.0700 - val_accuracy: 0.9810\n",
            "Epoch 15/50\n",
            "60000/60000 [==============================] - 4s 60us/sample - loss: 0.0039 - accuracy: 0.9995 - val_loss: 0.0601 - val_accuracy: 0.9827\n",
            "Epoch 16/50\n",
            "60000/60000 [==============================] - 3s 58us/sample - loss: 0.0029 - accuracy: 0.9996 - val_loss: 0.0625 - val_accuracy: 0.9826\n",
            "Epoch 17/50\n",
            "60000/60000 [==============================] - 3s 58us/sample - loss: 0.0025 - accuracy: 0.9998 - val_loss: 0.0623 - val_accuracy: 0.9831\n",
            "Epoch 18/50\n",
            "60000/60000 [==============================] - 4s 59us/sample - loss: 0.0013 - accuracy: 1.0000 - val_loss: 0.0616 - val_accuracy: 0.9835\n"
          ],
          "name": "stdout"
        }
      ]
    },
    {
      "cell_type": "code",
      "metadata": {
        "id": "kyoC1BP8fMOx",
        "colab_type": "code",
        "outputId": "12cbf69f-02ea-4fa2-822e-366a3c779b51",
        "colab": {
          "base_uri": "https://localhost:8080/",
          "height": 71
        }
      },
      "source": [
        "# 테스트 정확도 출력\n",
        "acc = model.evaluate(X_test, Y_test)\n",
        "# evaluate 메소드는 [loss, accuracy] 리스트를 리턴함.\n",
        "print('테스트 정확도:', acc[1])"
      ],
      "execution_count": 0,
      "outputs": [
        {
          "output_type": "stream",
          "text": [
            "10000/10000 [==============================] - 1s 65us/sample - loss: 0.0616 - accuracy: 0.9835\n",
            "테스트 정확도: 0.9835\n"
          ],
          "name": "stdout"
        }
      ]
    },
    {
      "cell_type": "code",
      "metadata": {
        "id": "7KLC9V5WijZ3",
        "colab_type": "code",
        "outputId": "32de067f-fa59-4a6c-e4ac-e9f6e3b57764",
        "colab": {
          "base_uri": "https://localhost:8080/",
          "height": 279
        }
      },
      "source": [
        "# 각 epoch에서 손실 그래프\n",
        "# 학습 세트 손실\n",
        "train_loss = history.history['loss']\n",
        "# 테스트 세트 손실\n",
        "test_loss = history.history['val_loss']\n",
        "\n",
        "# x좌표 - epoch 회수\n",
        "x = range(len(train_loss))\n",
        "plt.plot(x, train_loss, label='train loss', c='red', marker='.')\n",
        "plt.plot(x, test_loss, label='test loss', c='blue', marker='.')\n",
        "plt.legend()\n",
        "plt.xlabel('epoch')\n",
        "plt.ylabel('loss')\n",
        "plt.show()\n"
      ],
      "execution_count": 0,
      "outputs": [
        {
          "output_type": "display_data",
          "data": {
            "image/png": "[encoded data removed]",
            "text/plain": [
              "<Figure size 432x288 with 1 Axes>"
            ]
          },
          "metadata": {
            "tags": []
          }
        }
      ]
    }
  ]
}